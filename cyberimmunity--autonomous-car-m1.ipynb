{
 "cells": [
  {
   "attachments": {},
   "cell_type": "markdown",
   "metadata": {
    "datalore": {
     "hide_input_from_viewers": false,
     "hide_output_from_viewers": false,
     "node_id": "0RJSlfIlixBX3VaSDV2gM0",
     "report_properties": {
      "y": 0
     },
     "type": "MD"
    }
   },
   "source": [
    "# Кибериммунная автономность $\\\\$Создание конструктивно защищённого автономного наземного транспортного средства $\\\\$Модуль 1\n",
    "\n",
    "## О документе\n",
    "\n",
    "Версия 1.03\n",
    "\n",
    "Общая информация и модуль 1 для регионального этапа соревнований по кибериммунной автономности\n",
    "\n"
   ]
  },
  {
   "cell_type": "markdown",
   "metadata": {},
   "source": [
    "\n",
    "## О кибериммунной разработке\n",
    "\n",
    "Больше информации о кибериммунном подходе к разработке можно найти на [этой](https://github.com/sergey-sobolev/cyberimmune-systems/wiki/%D0%9A%D0%B8%D0%B1%D0%B5%D1%80%D0%B8%D0%BC%D0%BC%D1%83%D0%BD%D0%B8%D1%82%D0%B5%D1%82) странице "
   ]
  },
  {
   "cell_type": "markdown",
   "metadata": {},
   "source": [
    "## Сокращения\n",
    "\n",
    "* АНТС - автономное наземного транспортное средство\n",
    "* СУПА - система управления парком автомобилей, она же - AFCS - autonomous fleet control system"
   ]
  },
  {
   "cell_type": "markdown",
   "metadata": {},
   "source": [
    "## О задаче \n",
    "\n",
    "Автономные наземные транспортные средства с точки зрения архитектуры бортовых информационных систем мало отличаются от подводных, надводных, воздушных или космических. \n",
    "\n",
    "Ключевые задачи, которые нужно решить на борту, включают в себя\n",
    "\n",
    "1. получение задания на перемещение\n",
    "   \n",
    "2. расчёт и осуществление перемещения в заданную точку с учётом ограничений в задании и текущих координат\n",
    "   \n",
    "3. передача груза получателю (наиболее подходящим для заказчика образом)"
   ]
  },
  {
   "cell_type": "markdown",
   "metadata": {},
   "source": [
    "### Архитектура бортовых информационных систем\n",
    "\n",
    "![Базовая упрощённая архитектура](images/ciac-basic-arch.png)\n",
    "\n",
    "Рис. 1. Базовая упрощённая архитектура\n",
    "\n",
    "Такая архитектура позволяет реализовать функции автономного перемещения в условиях отсутствия кибератак.\n",
    "\n",
    "Эта же архитектура, но с указанием передаваемых между блоками данных показана на рисунке 2, на ней дополнительно пронумерованы блоки для удобства\n",
    "\n",
    "![Базовая упрощённая архитектура с указанием данных](images/ciac-basic-dfd.png)\n",
    "\n",
    "Рис. 2. Диаграмма потоков данных"
   ]
  },
  {
   "cell_type": "markdown",
   "metadata": {},
   "source": [
    "Взаимодействие компонентов отражено на следующей диаграмме (рис.3). Она называется диаграммой последовательности, читать её нужно сверху вниз, по стрелкам. Каждая стрелка обозначает или запрос (сплошная) или ответ (пунктирная). Стрелки пронумерованы для удобства.\n",
    "\n",
    "![Базовый сценарий](images/basic-scenario.png)\n",
    "\n",
    "Рис. 3. Базовый сценарий"
   ]
  },
  {
   "attachments": {},
   "cell_type": "markdown",
   "metadata": {
    "datalore": {
     "hide_input_from_viewers": false,
     "hide_output_from_viewers": false,
     "node_id": "qoIrYDyN2Q7aUkbphFojc4",
     "report_properties": {
      "y": 13
     },
     "type": "MD"
    }
   },
   "source": [
    "## Задания модуля \n",
    "\n",
    "### Предварительная подготовка\n",
    "\n",
    "#### Настройка СУПА\n",
    "\n",
    "Запустите систему управления парком автомобилей - она вам пригодится для наблюдения за движением вашего автономного наземного транспортного средства по ходу работы над всеми четырьмя модулями задания.\n",
    "Для этого откройте блокнот cyberimmunity--autonomous-car-extras.ipynb и следуйте инструкциям.\n",
    "\n",
    "Если всё получилось, то установите в ячейке ниже значение переменной afcs_present в True, если нет - оставьте False"
   ]
  },
  {
   "cell_type": "code",
   "execution_count": 1,
   "metadata": {},
   "outputs": [],
   "source": [
    "afcs_present = True"
   ]
  },
  {
   "cell_type": "markdown",
   "metadata": {},
   "source": [
    "#### Установка необходимых для работы пакетов\n",
    "\n",
    "Прежде чем далее работать с кодом, установим важные пакеты в наше окружение (пакеты и их версии указаны в файле requirements.txt). \n",
    "\n",
    "**Примечание**: этот шаг не требуется при использовании виртуальной машины, предложенной организаторами соревнований"
   ]
  },
  {
   "cell_type": "code",
   "execution_count": 2,
   "metadata": {},
   "outputs": [],
   "source": [
    "# раскомментируйте строчку ниже и запустите ячейку на выполнение\n",
    "\n",
    "#%pip install -r requirements.txt\n",
    "\n",
    "# при наличии ошибок установите пакеты из файла requirements.txt другим подходящим способом - \n",
    "# например, как системные пакеты"
   ]
  },
  {
   "cell_type": "markdown",
   "metadata": {},
   "source": [
    "### Сборка основных компонентов\n",
    "\n",
    "В рамках этого модуля необходимо будет из отдельных программных компонентов (блоков) собрать модель АНТС. Это похоже на крупноузловую сборку автомобиля, только нашей задаче будет не крутить гайки, а настроить информационные потоки между блоками для правильной работы всей системы."
   ]
  },
  {
   "cell_type": "markdown",
   "metadata": {},
   "source": [
    "#### Частичное решение этой задачи\n",
    "\n",
    "0. Установим необходимые для кода примера пакеты (этот шаг не требуется при использовании виртуальной машины, предложенной организаторами соревнований)\n",
    "1. Создадим функциональные компоненты (сущности 1, 3, 4 и 6), при этом каждый компонент будет работать в отдельном процессе\n",
    "2. Реализуем передачу данных между компонентами\n",
    "3. Реализуем получение маршрутного задания по незащищённому каналу и движение по маршруту\n",
    "\n",
    "Важные особенности реализации:\n",
    "- В качестве интерфейса взаимодействия используем очереди сообщений, у каждой сущности есть своя «персональная» очередь, ассоциированная с ней\n",
    "- Внешние по отношению компоненты будут использовать этот же способ передачи данных\n",
    "- Чтобы компоненты могли отправить свои сообщения в нужную очередь, создадим аналог \"адресной книги\" - по имени компонента в этой \"книге\" будет выдаваться очередь для сообщений "
   ]
  },
  {
   "cell_type": "markdown",
   "metadata": {},
   "source": [
    "1. Создадим функциональные компоненты (блоки 1, 3, 4 и 6), при этом каждый блок будет работать в отдельном процессе\n",
    "2. Реализуем передачу данных между блоками\n",
    "3. Реализуем получение маршрутного задания и движение по маршруту\n",
    "\n",
    "Важные особенности реализации:\n",
    "\n",
    "- В качестве интерфейса взаимодействия используем очереди сообщений, у каждого блока есть своя «персональная» очередь, ассоциированная с ней\n",
    "  \n",
    "- Внешние по отношению компоненты будут использовать этот же способ передачи данных\n",
    "  \n",
    "- Чтобы компоненты могли отправить свои сообщения в нужную очередь, создадим аналог \"адресной книги\" - по имени компонента в этой \"книге\" будет выдаваться очередь для сообщений."
   ]
  },
  {
   "cell_type": "markdown",
   "metadata": {},
   "source": [
    "В коде назовём компоненты следующим образом\n",
    "\n",
    "|№ <br>на диаграмме | Название в диаграмме | Название в коде |\n",
    "|--|--|--|\n",
    "|1 | Связь | CommunicationGateway |\n",
    "|3 | Система управления | ControlSystem |\n",
    "|4 | Навигация | NavigationSystem |\n",
    "|5 | Приводы груза | CargoBay |\n",
    "|6 | Приводы движения | Servos |\n",
    "\n",
    "\n",
    "\"QueuesDirectory\" - \"адресная книга\" - этот компонент создадим первым, чтобы все остальные могли в нём зарегистрироваться"
   ]
  },
  {
   "cell_type": "code",
   "execution_count": 3,
   "metadata": {},
   "outputs": [
    {
     "name": "stdout",
     "output_type": "stream",
     "text": [
      "[ИНФО][QUEUES] создан каталог очередей\n"
     ]
    }
   ],
   "source": [
    "from src.queues_dir import QueuesDirectory\n",
    "\n",
    "# каталог очередей для передачи сообщений между блоками\n",
    "queues_dir = QueuesDirectory()  "
   ]
  },
  {
   "cell_type": "markdown",
   "metadata": {},
   "source": [
    "Так как у нас виртуальная машинка, то её перемещение будет рассчитываться в отдельном модуле, который находится в файле src/sitl.py (SITL - software in the loop - симулятор изменения физического состояния - в нашем случае - перемещения в пространстве), с этим модулем взаимодействуют только приводы и навигационная систем (см. рис. 4)\n",
    "\n",
    "![Архитектура системы с симулятором](images/ciac-basic-dfd-w-sitl.png)\n",
    "\n",
    "Рис. 4. Архитектура системы с симулятором"
   ]
  },
  {
   "cell_type": "markdown",
   "metadata": {},
   "source": [
    "Теперь создадим симулятор перемещения. Как видно из блока ниже, код реализации находится в папке src, в файле sitl.py"
   ]
  },
  {
   "cell_type": "code",
   "execution_count": 4,
   "metadata": {},
   "outputs": [
    {
     "name": "stdout",
     "output_type": "stream",
     "text": [
      "[ИНФО][QUEUES] регистрируем очередь sitl\n",
      "[ИНФО][SITL] симулятор создан, ID m1\n"
     ]
    }
   ],
   "source": [
    "from src.sitl import SITL\n",
    "from geopy import Point as GeoPoint\n",
    "\n",
    "# координата текущего положения машинки\n",
    "home = GeoPoint(latitude=59.939032, longitude=30.315827) \n",
    "\n",
    "# идентификатор машинки (аналог VIN)\n",
    "car_id = \"m1\" \n",
    "\n",
    "sitl = SITL(queues_dir=queues_dir, position=home, car_id=car_id)"
   ]
  },
  {
   "cell_type": "markdown",
   "metadata": {},
   "source": [
    "Как можно заметить, мы также задали начальное местоположение машинки и идентификатор."
   ]
  },
  {
   "cell_type": "markdown",
   "metadata": {},
   "source": [
    "Далее создадим остальные функциональные блоки\n",
    "\n",
    "**Примечание**: обратите внимание, в коде их конструкторов регистрируются собственные очереди для получения сообщений. \n",
    "\n",
    "Так, в конструкторе блока коммуникации можно увидеть следующий код:\n",
    "\n",
    "```python\n",
    "def __init__(self, queues_dir: QueuesDirectory):\n",
    "        # вызываем конструктор базового класса\n",
    "        super().__init__()\n",
    "\n",
    "        # запоминаем каталог очередей -\n",
    "        # позже он понадобится для отправки маршрутного \n",
    "        # задания в систему управления\n",
    "        self._queues_dir = queues_dir\n",
    "\n",
    "        # создаём очередь для сообщений на обработку\n",
    "        self._events_q = Queue()\n",
    "        self._events_q_name = self.event_source_name\n",
    "\n",
    "        # регистрируем очередь в каталоге\n",
    ">>>        self._queues_dir.register(\n",
    "            queue=self._events_q, name=self._events_q_name)\n",
    "```"
   ]
  },
  {
   "cell_type": "markdown",
   "metadata": {},
   "source": [
    "#### Механизм решения задачи модуля 1\n",
    "\n",
    "\n",
    "Для всех блоков уже создан *почти* весь необходимый для работы код. Его не нужно разрабатывать самостоятельно. Используется объектно-ориентированный подход к написанию кода. Для каждого блока, который нужно доработать, создан базовый класс, который нужно унаследовать и реализовать несколько ключевых для задачи методов (как правило, связанных с передачей данных в другой блок).\n",
    "\n",
    "**Примечание**: реализация базовых классов находится в py файлах в папке src, рекомендуется эти файлы посмотреть, чтобы лучше понимать реализацию и логику работы блоков, допустимо использовать любой код, который там есть, однако запрещается менять любой код в папке src, если иное явно не оговорено в задании.\n",
    "\n",
    "Ниже будут приведены примеры."
   ]
  },
  {
   "cell_type": "markdown",
   "metadata": {},
   "source": [
    "##### Настройка передачи данных в блоке \"связь\" (он же - \"коммуникационный шлюз\")"
   ]
  },
  {
   "cell_type": "markdown",
   "metadata": {},
   "source": [
    "В файле src/communication_gateway.py реализован класс BaseCommunicationGateway, у которого отсутствует реализация метода _send_mission_to_consumers. Чтобы наша подсистема связи могла передавать события в систему управления, необходимо реализовать этот метод.\n",
    "\n",
    "Это можно сделать следующим образом:\n",
    "\n",
    "```python\n",
    "\n",
    "from multiprocessing import Queue\n",
    "from src.communication_gateway import BaseCommunicationGateway\n",
    "from src.config import CONTROL_SYSTEM_QUEUE_NAME\n",
    "from src.event_types import Event\n",
    "\n",
    "class CommunicationGateway(BaseCommunicationGateway):\n",
    "    \"\"\"CommunicationGateway класс для реализации логики взаимодействия\n",
    "    с системой планирования заданий\n",
    "\n",
    "    Работает в отдельном процессе, поэтому создаётся как наследник класса Process\n",
    "    \"\"\"\n",
    "    def _send_mission_to_consumers(self):\n",
    "        \"\"\" метод для отправки сообщения с маршрутным заданием в систему управления \"\"\"\n",
    "        \n",
    "        # имена очередей блоков находятся в файле src/config.py\n",
    "        # события нужно отправлять в соответствие с диаграммой информационных потоков\n",
    "        control_q_name = CONTROL_SYSTEM_QUEUE_NAME\n",
    "\n",
    "        # события передаются в виде экземпляров класса Event, \n",
    "        # описание класса находится в файле src/event_types.py\n",
    "        event = Event(source=BaseCommunicationGateway.event_source_name,\n",
    "                      destination=control_q_name,\n",
    "                      operation=\"set_mission\", parameters=self._mission\n",
    "                      )\n",
    "\n",
    "        # поиск в каталоге нужной очереди (в данном случае - системы управления)\n",
    "        control_q: Queue = self._queues_dir.get_queue(control_q_name)\n",
    "        # отправка события в найденную очередь\n",
    "        control_q.put(event)\n",
    "                \n",
    "```"
   ]
  },
  {
   "cell_type": "markdown",
   "metadata": {},
   "source": [
    "Обратите внимание на определение класса Event в фале src/event_types.py - этот класс содержит описание сообщений, которые передаются между блоками:\n",
    "\n",
    "```python\n",
    "@dataclass\n",
    "class Event:\n",
    "    \"\"\" формат событий для обработки \"\"\"\n",
    "    source: str       # отправитель\n",
    "    destination: str  # получатель - название очереди блока-получателя, \\\n",
    "                      # в которую нужно отправить сообщение\n",
    "    operation: str    # чего хочет (запрашиваемое действие)\n",
    "    parameters: Any   # с какими параметрами\n",
    "    extra_parameters: Any = None  # дополнительные параметры\n",
    "\n",
    "```"
   ]
  },
  {
   "cell_type": "markdown",
   "metadata": {},
   "source": [
    "#### Задание: создать блок \"Связь\" по описанию\n",
    "\n",
    "вставьте код из описания выше в кодовый блок и создайте экземпляр класс CommunicationGateway"
   ]
  },
  {
   "cell_type": "code",
   "execution_count": 5,
   "metadata": {},
   "outputs": [],
   "source": [
    "# вставьте свой код в эту ячейку"
   ]
  },
  {
   "cell_type": "markdown",
   "metadata": {},
   "source": [
    "Создадим экземпляр получившегося класса"
   ]
  },
  {
   "cell_type": "code",
   "execution_count": 7,
   "metadata": {},
   "outputs": [
    {
     "name": "stdout",
     "output_type": "stream",
     "text": [
      "[ИНФО][QUEUES] регистрируем очередь communication\n",
      "[ИНФО][COMMUNICATION] создан компонент связи\n"
     ]
    }
   ],
   "source": [
    "communication_gateway = CommunicationGateway(queues_dir=queues_dir)"
   ]
  },
  {
   "cell_type": "markdown",
   "metadata": {},
   "source": [
    "#### Задание: создать блоки \"Система управления\", \"Навигация\" по аналогии\n",
    "\n",
    "По аналогии реализуйте передачу информации между другими блоками (системы управления, навигации и приводами) согласно диаграмме на рис. 4"
   ]
  },
  {
   "cell_type": "code",
   "execution_count": 8,
   "metadata": {},
   "outputs": [],
   "source": [
    "# найдите подходящее имя очереди в файле src/config.py и добавьте в строчку ниже\n",
    "#from src.config import \n",
    "from src.control_system import BaseControlSystem\n",
    "\n",
    "\n",
    "class ControlSystem(BaseControlSystem):\n",
    "    \"\"\"ControlSystem блок расчёта управления \"\"\"\n",
    "\n",
    "    def _send_speed_and_direction_to_consumers(self, speed, direction):\n",
    "        servos_q_name = None # замените на правильное название очереди\n",
    "        servos_q: Queue = self._queues_dir.get_queue(servos_q_name)\n",
    "\n",
    "        # отправка сообщения с желаемой скоростью\n",
    "        event_speed = None # замените на код создания сообщения со скоростью для приводов\n",
    "                           # подсказка, требуемая операция - set_speed\n",
    "\n",
    "        # отправка сообщения с желаемым направлением\n",
    "        event_direction = None # замените на код создания сообщения с направлением для приводов\n",
    "                               # подсказка, требуемая операция - set_direction\n",
    "\n",
    "        servos_q.put(event_speed)\n",
    "        servos_q.put(event_direction)       \n"
   ]
  },
  {
   "cell_type": "code",
   "execution_count": 9,
   "metadata": {},
   "outputs": [],
   "source": [
    "# найдите подходящее имя очереди в файле src/config.py и добавьте в строчку ниже\n",
    "#from src.config import \n",
    "from src.navigation_system import BaseNavigationSystem\n",
    "\n",
    "\n",
    "class NavigationSystem(BaseNavigationSystem):\n",
    "    \"\"\" класс навигационного блока \"\"\"\n",
    "    def _send_position_to_consumers(self):        \n",
    "        control_q_name = None # замените на правильное название очереди\n",
    "        event = None # замените на код создания сообщения с координатами для системы управления \n",
    "                     # подсказка, требуемая операция - position_update\n",
    "        control_q: Queue = self._queues_dir.get_queue(control_q_name)\n",
    "        control_q.put(event)"
   ]
  },
  {
   "cell_type": "code",
   "execution_count": 12,
   "metadata": {},
   "outputs": [
    {
     "name": "stdout",
     "output_type": "stream",
     "text": [
      "[ИНФО][QUEUES] регистрируем очередь control\n",
      "[ИНФО][CONTROL] создана система управления\n",
      "[ИНФО][QUEUES] регистрируем очередь navigation\n",
      "[ИНФО][NAVIGATION] создан компонент навигации\n"
     ]
    }
   ],
   "source": [
    "control_system = ControlSystem(queues_dir=queues_dir)\n",
    "navigation_system = NavigationSystem(queues_dir=queues_dir)"
   ]
  },
  {
   "cell_type": "markdown",
   "metadata": {},
   "source": [
    "Создадим экземпляр класса \"Приводы\""
   ]
  },
  {
   "cell_type": "code",
   "execution_count": 13,
   "metadata": {},
   "outputs": [
    {
     "name": "stdout",
     "output_type": "stream",
     "text": [
      "[ИНФО][QUEUES] регистрируем очередь servos\n",
      "[ИНФО][SERVOS] создан компонент сервоприводов\n"
     ]
    }
   ],
   "source": [
    "from src.servos import Servos\n",
    "\n",
    "servos = Servos(queues_dir=queues_dir)"
   ]
  },
  {
   "cell_type": "markdown",
   "metadata": {},
   "source": [
    "Теперь создадим простейшую систему планирования заданий для перевозки, в ней будем задавать координаты пункта назначения и ограничения скорости перемещения."
   ]
  },
  {
   "cell_type": "code",
   "execution_count": 14,
   "metadata": {},
   "outputs": [
    {
     "name": "stdout",
     "output_type": "stream",
     "text": [
      "[ИНФО][QUEUES] регистрируем очередь planner\n",
      "[ИНФО][MISSION PLANNER] создана система планирования заданий\n"
     ]
    }
   ],
   "source": [
    "from src.mission_planner import MissionPlanner\n",
    "\n",
    "mission_planner = MissionPlanner(queues_dir=queues_dir)"
   ]
  },
  {
   "cell_type": "markdown",
   "metadata": {},
   "source": [
    "Создадим новую задачу на перевозку со следующими параметрами:\n",
    "- home - координаты начальной точки перемещения\n",
    "- waypoints - координаты путевых точек (через них должна проехать наша машинка)\n",
    "- speed_limits - скоростные ограничения для заданного отрезка пути, 0 - отрезок от 0 до 1 точки, 1 - от 1 до 2 путевой точки; если путевых точек больше, то в отсутствие скоростного ограничения для какого-то сегмента должно использоваться последнее заданное ограничение\n",
    "- armed - разрешение на выезд"
   ]
  },
  {
   "cell_type": "code",
   "execution_count": 15,
   "metadata": {},
   "outputs": [],
   "source": [
    "from src.mission_type import Mission, GeoSpecificSpeedLimit\n",
    "\n",
    "mission = Mission(home=home,\n",
    "                waypoints=[GeoPoint(latitude=59.9386, longitude=30.3121),\n",
    "                           GeoPoint(latitude=59.9386, longitude=30.3149),\n",
    "                           GeoPoint(latitude=59.9421, longitude=30.3067)\n",
    "                           ],\n",
    "                speed_limits=[\n",
    "                    GeoSpecificSpeedLimit(0, 30),\n",
    "                    GeoSpecificSpeedLimit(1, 60)\n",
    "                ],\n",
    "                armed=True)"
   ]
  },
  {
   "cell_type": "markdown",
   "metadata": {},
   "source": [
    "#### Задание: замените координаты и скоростные ограничения в описании маршрутного задания согласно предложенным начальным и конечным точкам"
   ]
  },
  {
   "cell_type": "code",
   "execution_count": 16,
   "metadata": {},
   "outputs": [],
   "source": [
    "mission_planner.set_new_mission(mission=mission)"
   ]
  },
  {
   "cell_type": "markdown",
   "metadata": {},
   "source": [
    "Теперь зададим идентификатор машинки (аналог VIN номера) - он будет виден в СУПА, если эта система у вас работает."
   ]
  },
  {
   "cell_type": "code",
   "execution_count": 17,
   "metadata": {},
   "outputs": [],
   "source": [
    "car_id = \"m1\""
   ]
  },
  {
   "cell_type": "markdown",
   "metadata": {},
   "source": [
    "Следующим шагом запустим все компоненты и позволим системе поработать какое-то время. \n",
    "\n",
    "По итогам работы этого кода под блоком должен появиться текст с событиями о запуске всех подсистем, начале и окончании движения по маршруту."
   ]
  },
  {
   "cell_type": "code",
   "execution_count": 18,
   "metadata": {},
   "outputs": [
    {
     "name": "stdout",
     "output_type": "stream",
     "text": [
      "[ИНФО][QUEUES] регистрируем очередь sitl\n",
      "[ИНФО][SITL] симулятор создан, ID m1\n",
      "[ИНФО][QUEUES] регистрируем очередь communication\n",
      "[ИНФО][COMMUNICATION] создан компонент связи\n",
      "[ИНФО][QUEUES] регистрируем очередь control\n",
      "[ИНФО][CONTROL] создана система управления\n",
      "[ИНФО][QUEUES] регистрируем очередь navigation\n",
      "[ИНФО][NAVIGATION] создан компонент навигации\n",
      "[ИНФО][QUEUES] регистрируем очередь servos\n",
      "[ИНФО][SERVOS] создан компонент сервоприводов\n",
      "[ИНФО][SITL] [SITL] старт симуляции\n",
      "[ИНФО][NAVIGATION] старт навигации\n",
      "[ИНФО][SERVOS] старт блока приводов\n",
      "[ИНФО][COMMUNICATION] старт системы планирования заданий\n",
      "[ИНФО][CONTROL] старт системы управления\n",
      "[ИНФО][MISSION PLANNER] старт системы планирования заданий\n",
      "[ИНФО][MISSION PLANNER] запрошена новая задача, отправляем получателям\n",
      "[ИНФО][MISSION PLANNER] новая задача отправлена в коммуникационный шлюз\n",
      "[ИНФО][COMMUNICATION] получен новый маршрут, отправляем в получателям\n",
      "[ИНФО][CONTROL] установлена новая задача, начинаем следовать по маршруту, текущее время 10:21:35.926808\n",
      "[ИНФО][CONTROL] новая скорость 30 (была 0)\n",
      "[ИНФО][CONTROL] новое направление 227 (было 0)\n"
     ]
    }
   ],
   "source": [
    "from time import sleep\n",
    "from src.config import LOG_INFO\n",
    "\n",
    "# создаём основные блоки\n",
    "sitl = SITL(queues_dir=queues_dir, position=home, car_id=car_id, log_level=LOG_INFO)        # <- симулятор движения\n",
    "communication_gateway = CommunicationGateway(queues_dir=queues_dir, log_level=LOG_INFO)     # <- Связь\n",
    "control_system = ControlSystem(queues_dir=queues_dir, log_level=LOG_INFO)                   # <- Система управления\n",
    "navigation_system = NavigationSystem(queues_dir=queues_dir, log_level=LOG_INFO)             # <- Навигация\n",
    "servos = Servos(queues_dir=queues_dir, log_level=LOG_INFO)                                  # <- Приводы\n",
    "\n",
    "\n",
    "# запускаем созданные выше блоки системы, после этого они начнут обработку входящих событий\n",
    "sitl.start()\n",
    "navigation_system.start()\n",
    "servos.start()\n",
    "communication_gateway.start()\n",
    "control_system.start()\n",
    "mission_planner.start()\n",
    "\n",
    "\n",
    "# пусть машинка немного поездит, \n",
    "# параметр sleep - время в секундах\n",
    "sleep(5)\n",
    "\n",
    "# останавливаем все компоненты\n",
    "control_system.stop()\n",
    "communication_gateway.stop()\n",
    "mission_planner.stop()\n",
    "sitl.stop()\n",
    "servos.stop()\n",
    "navigation_system.stop()\n",
    "\n",
    "# дождёмся завершения работы всех компонентов\n",
    "control_system.join()\n",
    "communication_gateway.join()\n",
    "mission_planner.join()\n",
    "sitl.join()\n",
    "servos.join()\n",
    "navigation_system.join()\n",
    "\n",
    "# подчистим все ресурсы для возможности повторного запуска в следующих модулях\n",
    "del control_system, communication_gateway, mission_planner, sitl, servos, navigation_system"
   ]
  },
  {
   "cell_type": "markdown",
   "metadata": {},
   "source": [
    "Если всё сделано правильно, то на этом этапе наша виртуальная машинка уже может автономно следовать к заданным точкам. Однако не хватает важного шага - доставки груза в конечной точке маршрута."
   ]
  },
  {
   "cell_type": "markdown",
   "metadata": {},
   "source": [
    "#### Задание: дописать в системе управления метод отправки события с командой на отгрузку в конечной точке маршрута.\n",
    "\n",
    "Сама логика определения конечной точки маршрута уже есть в базовом классе системы управления, не хватает только шага отправки события. \n",
    "Для выполнения этой задачи нужно реализовать абстрактные методы _release_cargo (разблокировать грузовой отсек, т.е. оставить груз) и _lock_cargo (заблокировать грузовой отсек, эту команду система управления отправляет в начале следования по маршруту - будет неправильно потерять груз по дороге)\n",
    "\n",
    "В следующей ячейке измените соответствующие методы ControlSystem, чтобы система управления могла отправлять команды для блокировку и открытие грузового отсека. "
   ]
  },
  {
   "cell_type": "code",
   "execution_count": 19,
   "metadata": {},
   "outputs": [],
   "source": [
    "from src.config import CARGO_BAY_QUEUE_NAME,\\\n",
    "    SERVOS_QUEUE_NAME\n",
    "    \n",
    "class ControlSystem(BaseControlSystem):\n",
    "    \"\"\"ControlSystem блок расчёта управления \"\"\"\n",
    "\n",
    "    def _send_speed_and_direction_to_consumers(self, speed, direction):\n",
    "        servos_q_name = SERVOS_QUEUE_NAME\n",
    "        servos_q: Queue = self._queues_dir.get_queue(servos_q_name)\n",
    "\n",
    "        # инициализация сообщения с желаемой скоростью\n",
    "        # подсказка: блок Приводы ожидает команду \"set_speed\" с параметром в виде скорости\n",
    "        event_speed = None # <-- измените эту строку!\n",
    "\n",
    "        # отправка сообщения с желаемым направлением\n",
    "        # подсказка: блок Приводы ожидает команду \"set_direction\" с параметром в виде направления\n",
    "        event_direction = None # <-- измените эту строку!\n",
    "\n",
    "        servos_q.put(event_speed)\n",
    "        servos_q.put(event_direction)\n",
    "\n",
    "    def _lock_cargo(self):\n",
    "        \"\"\" заблокировать грузовой отсек \"\"\"\n",
    "        cargo_q = self._queues_dir.get_queue(CARGO_BAY_QUEUE_NAME)\n",
    "        # инициализация сообщения с командой на блокировку грузового отсека\n",
    "        # подсказка: блок CargoBay ожидает команду \"lock_cargo\" без параметров\n",
    "        event = None # <-- измените эту строку!\n",
    "        cargo_q.put(event)\n",
    "\n",
    "    def _release_cargo(self):\n",
    "        \"\"\" открыть грузовой отсек \"\"\"\n",
    "        cargo_q = self._queues_dir.get_queue(CARGO_BAY_QUEUE_NAME)\n",
    "        # инициализация сообщения с командой на блокировку грузового отсека\n",
    "        # подсказка: блок CargoBay ожидает команду \"release_cargo\" без параметров\n",
    "        event = None # <-- измените эту строку!\n",
    "\n",
    "        cargo_q.put(event)\n"
   ]
  },
  {
   "cell_type": "code",
   "execution_count": 20,
   "metadata": {},
   "outputs": [],
   "source": [
    "# пример решения удалить перед выдачей конкурсантам!\n",
    "\n",
    "from src.config import CARGO_BAY_QUEUE_NAME,\\\n",
    "    SERVOS_QUEUE_NAME\n",
    "    \n",
    "class ControlSystem(BaseControlSystem):\n",
    "    \"\"\"ControlSystem блок расчёта управления \"\"\"\n",
    "\n",
    "    def _send_speed_and_direction_to_consumers(self, speed, direction):        \n",
    "        servos_q_name = SERVOS_QUEUE_NAME\n",
    "        servos_q: Queue = self._queues_dir.get_queue(servos_q_name)\n",
    "\n",
    "        # отправка сообщения с желаемой скоростью\n",
    "        event_speed = Event(source=self.event_source_name,\n",
    "                            destination=servos_q_name,\n",
    "                            operation=\"set_speed\",\n",
    "                            parameters=speed\n",
    "                            )\n",
    "\n",
    "        # отправка сообщения с желаемым направлением\n",
    "        event_direction = Event(source=self.event_source_name,\n",
    "                                destination=servos_q_name,\n",
    "                                operation=\"set_direction\",\n",
    "                                parameters=direction\n",
    "                                )\n",
    "\n",
    "        servos_q.put(event_speed)\n",
    "        servos_q.put(event_direction)\n",
    "\n",
    "    def _lock_cargo(self):\n",
    "        \"\"\" заблокировать грузовой отсек \"\"\"\n",
    "        cargo_q = self._queues_dir.get_queue(CARGO_BAY_QUEUE_NAME)\n",
    "        event = Event(source=CONTROL_SYSTEM_QUEUE_NAME,\n",
    "                      destination=CARGO_BAY_QUEUE_NAME,\n",
    "                      operation=\"lock_cargo\",\n",
    "                      parameters=None\n",
    "                      )\n",
    "        cargo_q.put(event)\n",
    "\n",
    "    def _release_cargo(self):\n",
    "        \"\"\" открыть грузовой отсек \"\"\"\n",
    "        cargo_q = self._queues_dir.get_queue(CARGO_BAY_QUEUE_NAME)\n",
    "        event = Event(source=CONTROL_SYSTEM_QUEUE_NAME,\n",
    "                      destination=CARGO_BAY_QUEUE_NAME,\n",
    "                      operation=\"release_cargo\",\n",
    "                      parameters=None\n",
    "                      )\n",
    "        cargo_q.put(event)"
   ]
  },
  {
   "cell_type": "markdown",
   "metadata": {},
   "source": [
    "Проверим результат. Если всё сделано правильно, то после завершения маршрута мы должны увидеть в тексте \"груз оставлен\""
   ]
  },
  {
   "cell_type": "code",
   "execution_count": 21,
   "metadata": {},
   "outputs": [
    {
     "name": "stdout",
     "output_type": "stream",
     "text": [
      "[ИНФО][QUEUES] регистрируем очередь planner.mqtt\n",
      "[ИНФО][QUEUES] регистрируем очередь sitl.mqtt\n",
      "[ИНФО][QUEUES] регистрируем очередь planner\n",
      "[ИНФО][MISSION PLANNER] создана система планирования заданий\n",
      "[ИНФО][QUEUES] регистрируем очередь sitl\n",
      "[ИНФО][SITL] симулятор создан, ID m1\n",
      "[ИНФО][QUEUES] регистрируем очередь communication\n",
      "[ИНФО][COMMUNICATION] создан компонент связи\n",
      "[ИНФО][QUEUES] регистрируем очередь control\n",
      "[ИНФО][CONTROL] создана система управления\n",
      "[ИНФО][QUEUES] регистрируем очередь navigation\n",
      "[ИНФО][NAVIGATION] создан компонент навигации\n",
      "[ИНФО][QUEUES] регистрируем очередь servos\n",
      "[ИНФО][QUEUES] регистрируем очередь cargo\n",
      "[ИНФО][CARGO] создан компонент грузового отсека, отсек заблокирован\n",
      "[ИНФО][MISSION_PLANNER.MQTT] старт клиента телеметрии\n",
      "[ИНФО][MISSION_PLANNER.MQTT] клиент отправки маршрута создан и запущен[ИНФО][SITL.MQTT] старт клиента телеметрии\n",
      "\n",
      "\n",
      "[ИНФО][SITL.MQTT] клиент отправки телеметрии создан и запущен\n",
      "[ИНФО][SITL] [SITL] старт симуляции[ИНФО][CARGO] старт блока грузового отсека\n",
      "[ИНФО][COMMUNICATION] старт системы планирования заданий\n",
      "[ИНФО][CONTROL] старт системы управления\n",
      "[ИНФО][MISSION PLANNER] старт системы планирования заданий\n",
      "[ИНФО][NAVIGATION] старт навигации\n",
      "[ИНФО][MISSION PLANNER] запрошена новая задача, отправляем получателям\n",
      "[ИНФО][MISSION PLANNER] новая задача отправлена в коммуникационный шлюз\n",
      "[ИНФО][COMMUNICATION] получен новый маршрут, отправляем в получателям\n",
      "[ИНФО][CONTROL] установлена новая задача, начинаем следовать по маршруту, текущее время 10:21:41.571833\n",
      "[ИНФО][CARGO] заблокировать грузовой отсек\n",
      "[ИНФО][CARGO] грузовой отсек заблокирован\n",
      "[ИНФО][MISSION_PLANNER.MQTT] отправлен маршрут: {\"id\": \"m1\", \"mission_str\": \"QGC WPL 110\\n0\\t1\\t0\\t16\\t0\\t5\\t0\\t0\\t59.9386\\t30.3121\\t0\\t1\\n0\\t0\\t3\\t16\\t0\\t5\\t0\\t0\\t59.9386\\t30.3121\\t0\\t1\\n1\\t0\\t3\\t16\\t0\\t5\\t0\\t0\\t59.9421\\t30.3067\\t0\\t1\\n\"}\n",
      "[ИНФО][CONTROL] новая скорость 60 (была 0)\n",
      "[ИНФО][CONTROL] новое направление 322 (было 0)\n",
      "[ИНФО][CONTROL] маршрут пройден, текущее время 10:22:12.691072\n",
      "[ИНФО][CONTROL] новая скорость 0.0 (была 60)\n",
      "[ИНФО][CONTROL] новое направление 0 (было 322)\n",
      "[ИНФО][CARGO] выгрузка\n",
      "[ИНФО][CARGO] груз оставлен\n"
     ]
    }
   ],
   "source": [
    "from time import sleep\n",
    "from src.mission_planner import MissionPlanner\n",
    "from src.cargo_bay import CargoBay\n",
    "from src.config import LOG_ERROR, LOG_INFO\n",
    "from src.mission_type import Mission, GeoSpecificSpeedLimit\n",
    "from src.system_wrapper import SystemComponentsContainer\n",
    "\n",
    "# вспомогательные блоки для отправки данных в СУПА\n",
    "from src.mission_planner_mqtt import MissionSender\n",
    "from src.sitl_mqtt import TelemetrySender\n",
    "\n",
    "\n",
    "mission_sender = MissionSender(\n",
    "    queues_dir=queues_dir, client_id=car_id, log_level=LOG_INFO)\n",
    "telemetry_sender = TelemetrySender(\n",
    "    queues_dir=queues_dir, client_id=car_id, log_level=LOG_INFO)\n",
    "\n",
    "home = GeoPoint(latitude=59.9386, longitude=30.3121)\n",
    "\n",
    "# сократим маршрут для ускорения процесса\n",
    "mission = Mission(\n",
    "    home=home,\n",
    "    waypoints=[home, GeoPoint(latitude=59.9421, longitude=30.3067)\n",
    "               ],\n",
    "    speed_limits=[\n",
    "        GeoSpecificSpeedLimit(0, 60)\n",
    "    ],\n",
    "    armed=True)\n",
    "\n",
    "mission_planner = MissionPlanner(\n",
    "    queues_dir=queues_dir, afcs_present=afcs_present)\n",
    "mission_planner.set_new_mission(mission=mission)\n",
    "\n",
    "sitl = SITL(queues_dir=queues_dir, position=home,\n",
    "            car_id=car_id, log_level=LOG_INFO, post_telemetry=afcs_present)\n",
    "communication_gateway = CommunicationGateway(\n",
    "    queues_dir=queues_dir, log_level=LOG_INFO)\n",
    "control_system = ControlSystem(queues_dir=queues_dir, log_level=LOG_INFO)\n",
    "navigation_system = NavigationSystem(\n",
    "    queues_dir=queues_dir, log_level=LOG_INFO)\n",
    "servos = Servos(queues_dir=queues_dir, log_level=LOG_ERROR)\n",
    "cargo_bay = CargoBay(queues_dir=queues_dir, log_level=LOG_INFO)\n",
    "\n",
    "\n",
    "# у нас получилось довольно много блоков, используем класс SystemComponentsContainer\n",
    "# для упрощения рутинной работы с ними\n",
    "system_components = SystemComponentsContainer(\n",
    "    components=[\n",
    "        mission_sender,\n",
    "        telemetry_sender,\n",
    "        sitl,\n",
    "        navigation_system,\n",
    "        servos,\n",
    "        cargo_bay,\n",
    "        communication_gateway,\n",
    "        control_system,\n",
    "        mission_planner\n",
    "    ] if afcs_present else [\n",
    "        sitl,\n",
    "        navigation_system,\n",
    "        servos,\n",
    "        cargo_bay,\n",
    "        communication_gateway,\n",
    "        control_system,\n",
    "        mission_planner\n",
    "    ])\n",
    "\n",
    "system_components.start()\n",
    "\n",
    "# пусть машинка немного поездит,\n",
    "# параметр sleep - время в секундах\n",
    "sleep(35)\n",
    "\n",
    "# останавливаем все компоненты\n",
    "system_components.stop()\n",
    "\n",
    "# подчистим все ресурсы для возможности повторного запуска в следующих модулях\n",
    "system_components.clean()"
   ]
  },
  {
   "cell_type": "markdown",
   "metadata": {},
   "source": [
    "На этом модуль 1 завершён, едем дальше!\n",
    "\n",
    "Для работы над модулем 2 задания откройте блокнот с названием cyberimmunity--autonomous-car-m2."
   ]
  }
 ],
 "metadata": {
  "datalore": {
   "base_environment": "default",
   "computation_mode": "JUPYTER",
   "package_manager": "pip",
   "packages": [],
   "version": 1
  },
  "kernelspec": {
   "display_name": "Python 3",
   "language": "python",
   "name": "python3"
  },
  "language_info": {
   "codemirror_mode": {
    "name": "ipython",
    "version": 3
   },
   "file_extension": ".py",
   "mimetype": "text/x-python",
   "name": "python",
   "nbconvert_exporter": "python",
   "pygments_lexer": "ipython3",
   "version": "3.8.10"
  }
 },
 "nbformat": 4,
 "nbformat_minor": 4
}
