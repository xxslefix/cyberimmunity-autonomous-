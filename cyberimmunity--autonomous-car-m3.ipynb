{
 "cells": [
  {
   "attachments": {},
   "cell_type": "markdown",
   "metadata": {
    "datalore": {
     "hide_input_from_viewers": false,
     "hide_output_from_viewers": false,
     "node_id": "0RJSlfIlixBX3VaSDV2gM0",
     "report_properties": {
      "y": 0
     },
     "type": "MD"
    }
   },
   "source": [
    "# Кибериммунная автономность$\\\\$Создание конструктивно защищённого автономного наземного транспортного средства$\\\\$Модуль 3\n",
    "\n",
    "## О документе\n",
    "\n",
    "Версия 1.03\n",
    "\n",
    "Модуль 3 для регионального этапа соревнований по кибериммунной автономности"
   ]
  },
  {
   "cell_type": "markdown",
   "metadata": {},
   "source": [
    "### Модуль 3. Внедрение блоков функциональной и информационной безопасности\n",
    "#### Общая идея\n",
    "\n",
    "Ключевая идея кибериммунной автономности заключается в том, чтобы уже на этапе проектирования внедрить защиту от кибератак как снаружи, так и изнутри - т.е. через уязвимые бортовые информационные системы. \n",
    "Мы исходим из того, что абсолютно защищённых систем не бывает, чем больше и сложнее код, тем проще одним (\"плохим\") в нём спрятать уязвимости, а другим (\"хорошим\", но уставшим) эти уязвимости не найти. \n",
    "\n",
    "Поэтому необходимо сделать так, чтобы наиболее критичный код был отделён от некритичного и протестирован особенно тщательно - таким образом можно снизить вероятность успешной атаки и затруднить задачу атакующим."
   ]
  },
  {
   "cell_type": "markdown",
   "metadata": {},
   "source": [
    "#### Цели и предположения безопасности\n",
    "\n",
    "##### Цели безопасности\n",
    "Устойчивость кибериммунных систем к атакам выражается в том, что поставленные заказчиком **цели безопасности** (ЦБ) не нарушаются даже в условиях кибератак (снаружи и изнутри).\n",
    "\n",
    "Для наших автономных машинок заказчиком поставлены следующие ЦБ:\n",
    "\n",
    "1. При любых обстоятельствах АНТС осуществляет перемещения в пределах заданных ограничений\n",
    "\n",
    "2. При любых обстоятельствах АНТС выполняет только аутентичный (подлинный) маршрут\n",
    "\n",
    "3. При любых обстоятельствах АНТС оставляет груз только в авторизованном пункте назначения\n",
    "\n",
    "Ниже используется цифро-буквенное обозначение целей безопасности - например, ЦБ1 - первая цель безопасности из списка выше.\n",
    "\n",
    "##### Предположения безопасности\n",
    "При этом заказчик согласовал с разработчиками следующие **предположения безопасности** (ПБ) - утверждения о смежных системах, которые снимают с разработчиков часть задач для обеспечения целей безопасности:\n",
    "\n",
    "1. При любых обстоятельствах только авторизованный персонал имеет физический доступ к критическим узлам АНТС\n",
    "\n",
    "2. При любых обстоятельствах только аутентичные и авторизованные операторы имеют доступ к системе планирования заданий\n",
    "\n",
    "3. Аутентичные и авторизованные операторы обладают необходимой квалификацией и являются благонадёжными (т.е. не пытаются намеренно причинить ущерб системе или третьим лицам, используя доступ к АНТС)\n",
    "\n",
    "Ниже используется цифро-буквенное обозначение предположений безопасности - например, ПБ1 - первое предположение безопасности из списка выше."
   ]
  },
  {
   "cell_type": "markdown",
   "metadata": {},
   "source": [
    "### Киберпрепятствия\n",
    "\n",
    "Прежде чем мы начнём внедрять механизмы безопасности, посмотрим, что произойдёт с нашей машинкой, если бортовые системы начнут вести себя не так, как мы ожидаем.\n",
    "\n",
    "Для этого активируем специальный режим работы системы управления и снова запустим машинку по тому же маршруту, который был в конце модуля 2.\n",
    "\n",
    "После инициализации системы управления добавьте следующую строку\n",
    "```python\n",
    "control_system.enable_surprises()\n",
    "```"
   ]
  },
  {
   "cell_type": "markdown",
   "metadata": {},
   "source": [
    "Но вначале нужно из модуля 2 скопировать сюда ваши текущие наработки, а именно ваши реализации классов коммуникационного шлюза (CommunicationGateway), систему навигации (NavigationSystem), управления (ControlSystem), также будем использовать маршрут, который вы создали."
   ]
  },
  {
   "cell_type": "code",
   "execution_count": 1,
   "metadata": {},
   "outputs": [],
   "source": [
    "# вставьте сюда ваш код"
   ]
  },
  {
   "cell_type": "markdown",
   "metadata": {},
   "source": [
    "Если у вас настроена и работает СУПА, установите в True значение переменной afcs_present"
   ]
  },
  {
   "cell_type": "code",
   "execution_count": 2,
   "metadata": {},
   "outputs": [],
   "source": [
    "afcs_present = True"
   ]
  },
  {
   "cell_type": "markdown",
   "metadata": {},
   "source": [
    "Поменяем идентификатор машинки для этого модуля"
   ]
  },
  {
   "cell_type": "code",
   "execution_count": 3,
   "metadata": {},
   "outputs": [],
   "source": [
    "car_id = \"m3\""
   ]
  },
  {
   "cell_type": "code",
   "execution_count": 5,
   "metadata": {},
   "outputs": [
    {
     "name": "stdout",
     "output_type": "stream",
     "text": [
      "[Point(59.939106179129574, 30.315678119659424, 0.0), Point(59.93851500196842, 30.312201976776123, 0.0), Point(59.9421371401197, 30.306622982025146, 0.0), Point(59.94109460678271, 30.303940773010254, 0.0), Point(59.940374487296396, 30.302116870880127, 0.0), Point(59.94123164267495, 30.301105678081512, 0.0), Point(59.94111475915532, 30.30068188905716, 0.0)]\n",
      "[ИНФО][QUEUES] создан каталог очередей\n",
      "[ИНФО][QUEUES] регистрируем очередь planner.mqtt\n",
      "[ИНФО][QUEUES] регистрируем очередь sitl.mqtt\n",
      "[ИНФО][QUEUES] регистрируем очередь planner\n",
      "[ИНФО][MISSION PLANNER] создана система планирования заданий\n",
      "[ИНФО][QUEUES] регистрируем очередь sitl\n",
      "[ИНФО][QUEUES] регистрируем очередь communication\n",
      "[ИНФО][QUEUES] регистрируем очередь control\n",
      "[ИНФО][CONTROL] создана система управления\n",
      "[ИНФО][QUEUES] регистрируем очередь navigation\n",
      "[ИНФО][QUEUES] регистрируем очередь servos\n",
      "[ИНФО][QUEUES] регистрируем очередь cargo\n",
      "[ИНФО][CARGO] создан компонент грузового отсека, отсек заблокирован\n"
     ]
    },
    {
     "name": "stdout",
     "output_type": "stream",
     "text": [
      "[ИНФО][MISSION PLANNER] старт системы планирования заданий\n",
      "[ИНФО][CARGO] старт блока грузового отсека\n",
      "[ИНФО][CONTROL] старт системы управления\n",
      "[ИНФО][MISSION PLANNER] запрошена новая задача, отправляем получателям\n",
      "[ИНФО][MISSION PLANNER] новая задача отправлена в коммуникационный шлюз\n",
      "[ИНФО][CONTROL] установлена новая задача, начинаем следовать по маршруту, текущее время 10:29:25.175947\n",
      "[ИНФО][CARGO] заблокировать грузовой отсек\n",
      "[ИНФО][CARGO] грузовой отсек заблокирован\n",
      "[ИНФО][CONTROL] новая скорость 30 (была 0)\n",
      "[ИНФО][CONTROL] новое направление 251 (было 0)\n",
      "[ИНФО][CONTROL] сегмент пройден\n",
      "[ИНФО][CONTROL] новая скорость 60 (была 30)\n",
      "[ИНФО][CONTROL] новое направление 142 (было 251)\n",
      "[ИНФО][CONTROL] новое направление 143 (было 142)\n"
     ]
    }
   ],
   "source": [
    "# используем то же маршрутное задание, которое было в модуле 2\n",
    "from time import sleep\n",
    "from geopy import Point as GeoPoint\n",
    "\n",
    "\n",
    "from src.queues_dir import QueuesDirectory\n",
    "from src.servos import Servos\n",
    "from src.sitl import SITL\n",
    "from src.cargo_bay import CargoBay\n",
    "from src.mission_planner import MissionPlanner\n",
    "from src.config import LOG_ERROR, LOG_INFO\n",
    "from src.mission_planner_mqtt import MissionSender\n",
    "from src.mission_planner import Mission\n",
    "from src.sitl_mqtt import TelemetrySender\n",
    "from src.system_wrapper import SystemComponentsContainer\n",
    "from src.wpl_parser import WPLParser\n",
    "\n",
    "\n",
    "# возьмём маршрут из модуля 2\n",
    "wpl_file = \"module2.wpl\"\n",
    "\n",
    "parser = WPLParser(wpl_file)    \n",
    "points = parser.parse()\n",
    "print(points)\n",
    "\n",
    "from src.mission_type import GeoSpecificSpeedLimit\n",
    "speed_limits = [\n",
    "    GeoSpecificSpeedLimit(0, 30),\n",
    "    GeoSpecificSpeedLimit(1, 60),\n",
    "    GeoSpecificSpeedLimit(5, 20),\n",
    "]\n",
    "\n",
    "\n",
    "home = points[0]\n",
    "mission = Mission(home=home, waypoints=points,speed_limits=speed_limits, armed=True)\n",
    "\n",
    "# каталог очередей для передачи сообщений между блоками\n",
    "queues_dir = QueuesDirectory() \n",
    "\n",
    "if afcs_present:\n",
    "    mission_sender = MissionSender(\n",
    "        queues_dir=queues_dir, client_id=car_id, log_level=LOG_ERROR)\n",
    "    telemetry_sender = TelemetrySender(\n",
    "        queues_dir=queues_dir, client_id=car_id, log_level=LOG_ERROR)\n",
    "\n",
    "mission_planner = MissionPlanner(\n",
    "    queues_dir, afcs_present=afcs_present, mission=mission)\n",
    "\n",
    "sitl = SITL(\n",
    "    queues_dir=queues_dir, position=home,\n",
    "    car_id=car_id, post_telemetry=afcs_present, log_level=LOG_ERROR)\n",
    "\n",
    "communication_gateway = CommunicationGateway(\n",
    "    queues_dir=queues_dir, log_level=LOG_ERROR)\n",
    "control_system = ControlSystem(queues_dir=queues_dir, log_level=LOG_INFO)\n",
    "\n",
    "navigation_system = NavigationSystem(\n",
    "    queues_dir=queues_dir, log_level=LOG_ERROR)\n",
    "\n",
    "servos = Servos(queues_dir=queues_dir, log_level=LOG_ERROR)\n",
    "cargo_bay = CargoBay(queues_dir=queues_dir, log_level=LOG_INFO)\n",
    "\n",
    "# по аналогии собираем все блоки в одном кузове\n",
    "system_components = SystemComponentsContainer(\n",
    "    components=[\n",
    "        mission_sender,\n",
    "        telemetry_sender,\n",
    "        sitl,\n",
    "        mission_planner,\n",
    "        navigation_system,\n",
    "        servos,\n",
    "        cargo_bay,\n",
    "        communication_gateway,\n",
    "        control_system\n",
    "    ] if afcs_present else [\n",
    "        sitl,\n",
    "        mission_planner,\n",
    "        navigation_system,\n",
    "        servos,\n",
    "        cargo_bay,\n",
    "        communication_gateway,\n",
    "        control_system\n",
    "    ])\n",
    "\n",
    "#################################\n",
    "# АКТИВАЦИЯ КИБЕРПРЕПЯТСТВИЙ\n",
    "control_system.enable_surprises()\n",
    "#################################\n",
    "\n",
    "system_components.start()\n",
    "\n",
    "# ограничение поездки по времени\n",
    "# параметр sleep - время в секундах,\n",
    "# настройте этот параметр так, чтобы ваша машинка завершила маршрут\n",
    "# в случае превышения времени выполнения ячейки на более чем 10 секунд от заданного, \n",
    "# допустимо перезапустить вычислительное ядро и повторно выполнить весь блокнот, штрафные очки за это не начисляются\n",
    "# при условии, что повторный запуск закончился успешно\n",
    "sleep(30)\n",
    "\n",
    "# останавливаем все компоненты\n",
    "system_components.stop()\n",
    "\n",
    "# удалим все созданные компоненты\n",
    "system_components.clean()\n",
    "del system_components"
   ]
  },
  {
   "cell_type": "markdown",
   "metadata": {},
   "source": [
    "Итак, в отличие от, надеемся, успешного завершения маршрута в модуле 2, сейчас ваша машинка ведёт себя совсем иначе. Например, она внезапно едет в совершенно другую сторону (это особенно хорошо видно при использовании СУПА). \n",
    "И это ещё не всё, что может пойти не так..\n",
    "\n",
    "В этой реализации не очень много кода, теоретически, вы можете его весь изучить и устранить \"незадокументированные возможности\", однако в реальных системах кода гораздо больше. Например, кодовая база проекта с открытым исходным кодом ArduPilot, реализующего в том числе логику автопилота, составляет примерно миллион строк. \n",
    "\n",
    "Сколько времени вам понадобится, чтобы изучить и протестировать миллион строк кода? А ведь придётся проводить анализ и каждого обновления.. При этом неприятности могут быть хорошо спрятанными и на первый взгляд безобидными, вряд ли злоумышленники облегчат задачу и назовут свои изменения, например, \"hacking_the_system\" или \"allowing_secret_remote_access\". Вредоносный код может выглядеть совершенно безобидно или маскироваться под программный дефект.\n",
    "\n",
    "Поэтому тщательный анализ потребует большого количества ресурсов (человеческих, вычислительных, временныз), что стоит дорого. \n",
    "\n",
    "Логичным выходом является выделение критичных для целей безопасности проверок в отдельный блок, который протестировать должно быть гораздо проще."
   ]
  },
  {
   "cell_type": "markdown",
   "metadata": {},
   "source": [
    "#### Задания \n",
    "\n",
    "В этом модуле задание будет состоять из двух частей разной сложности:\n",
    "\n",
    "**3.1. добавить новый блок - \"Ограничитель\"** - этот модуль должен будет обеспечить соблюдение ограничений, указанных в маршрутном задании - это необходимо для обеспечения ЦБ1\n",
    "\n",
    "**З.2. *(задание повышенной сложности)* добавить монитор безопасности (МБ)** - он должен контролировать все взаимодействия *бортовых систем* (т.е. не включая планировщик и симулятор) и не давать блокам взаимодействовать друг с другом непредусмотренным образом - например, блок №5 может принимать команды только от №3, попытка передать команду в №5 от №2 должна блокироваться нашим монитором безопасности - потенциально это необходимо для обеспечения всех ЦБ"
   ]
  },
  {
   "cell_type": "markdown",
   "metadata": {},
   "source": [
    "Для выполнения первой части задачи 3.1. необходимо для начала изменить архитектуру АНТС как показано на рис. 5\n",
    "\n",
    "![Архитектура системы с ограничителем](images/ciac-arch-m31.png)\n",
    "\n",
    "Рис. 5. Архитектура АНТС с ограничителем (для ЦБ1)"
   ]
  },
  {
   "cell_type": "markdown",
   "metadata": {},
   "source": [
    "Код базового класса Ограничителя находится в файле src/safety_block.py\n",
    "\n",
    "По аналогии с заданием в модуле 1, необходимо создать на основе этого класса свой собственный под названием SafetyBlock, в котором реализовать передачу команд в приводы движения, только перед эти необходимо ещё и проконтролировать их безопасность.\n",
    "\n",
    "Также необходимо реализовать передачу маршрутного задания из CommunicationGateway в SafetyBlock и координат из модуля Navigation в соответствии со стрелками на рис.5 выше.\n",
    "\n",
    "Если всё сделано правильно, то Ограничителю будет известно следующее\n",
    "\n",
    "- _mission - текущее маршрутное задание\n",
    "- _position - текущие координаты\n",
    "\n",
    "После проверки нужно установить значение внутренних переменных\n",
    "- _speed - текущая (допустимая) скорость\n",
    "- _direction - текущее (допустимое) направление\n",
    "\n",
    "Желательно завершить следование по маршруту. В критической ситуации, если продолжение маршрута невозможно, следует установить значение скорости и направления в 0, после чего передать эти команды в блок приводов (Servos)"
   ]
  },
  {
   "cell_type": "markdown",
   "metadata": {},
   "source": [
    "Базовый сценарий для новой архитектуры можно представить следующим образом (см. рис. 6)\n",
    "\n",
    "![Базовый сценарий с блоком безопасности](images/basic-scenario-with-safety-block1.png)\n",
    "\n",
    "Рис. 6. Базовый сценарий с блоком безопасности"
   ]
  },
  {
   "cell_type": "markdown",
   "metadata": {},
   "source": [
    "Заготовка кода SafetyBlock\n",
    "\n",
    "```python\n",
    "class SafetyBlock(BaseSafetyBlock):\n",
    "    \"\"\" класс ограничений безопасности \"\"\"\n",
    "\n",
    "    def _set_new_direction(self, direction: float):\n",
    "        \"\"\" установка нового направления перемещения \"\"\"\n",
    "        self._log_message(LOG_INFO, f\"текущие координаты: {self._position}\")\n",
    "        self._log_message(LOG_DEBUG, f\"маршрутное задание: {self._mission}\")\n",
    "        self._log_message(LOG_DEBUG, f\"состояние маршруте: {self._route}\")\n",
    "        # TODO реализовать контроль безопасности изменения направления\n",
    "        self._direction = direction\n",
    "        self._send_direction_to_consumers()\n",
    "\n",
    "    def _set_new_speed(self, speed: float):\n",
    "        \"\"\" установка новой скорости \"\"\"\n",
    "        # TODO реализовать контроль безопасности изменения скорости\n",
    "        self._speed = speed\n",
    "        self._send_speed_to_consumers()\n",
    "\n",
    "\n",
    "    def _send_speed_to_consumers(self):\n",
    "        self._log_message(LOG_DEBUG, \"отправляем скорость получателям\")\n",
    "        servos_q_name = SERVOS_QUEUE_NAME\n",
    "        servos_q: Queue = self._queues_dir.get_queue(servos_q_name)\n",
    "\n",
    "        # отправка сообщения с желаемой скоростью\n",
    "        event_speed = Event(source=self.event_source_name,\n",
    "                            destination=servos_q_name,\n",
    "                            operation=\"set_speed\",\n",
    "                            parameters=self._speed\n",
    "                            )\n",
    "        servos_q.put(event_speed)\n",
    "\n",
    "    def _send_direction_to_consumers(self):\n",
    "        self._log_message(LOG_DEBUG, \"отправляем направление получателям\")\n",
    "\n",
    "        servos_q_name = SERVOS_QUEUE_NAME\n",
    "        servos_q: Queue = self._queues_dir.get_queue(servos_q_name)\n",
    "\n",
    "        # отправка сообщения с желаемой скоростью\n",
    "        event_speed = Event(source=self.event_source_name,\n",
    "                            destination=servos_q_name,\n",
    "                            operation=\"set_direction\",\n",
    "                            parameters=self._direction\n",
    "                            )\n",
    "        servos_q.put(event_speed)\n",
    "```"
   ]
  },
  {
   "cell_type": "code",
   "execution_count": 6,
   "metadata": {},
   "outputs": [],
   "source": [
    "# 1. скопируйте сюда код заготовки из предыдущей ячейки и напишите свою реализацию класса SafetyBlock"
   ]
  },
  {
   "cell_type": "code",
   "execution_count": 8,
   "metadata": {},
   "outputs": [],
   "source": [
    "# 2. напишите в этом блоке реализацию изменённых блоков связи, управления и навигации, \n",
    "# чтобы передавать данные согласно изменённой архитектуре на рис. 5 для обеспечения работы по сценарию на рис.6\n",
    "\n",
    "# 3. создайте экземпляры изменённых классов и отправьте машинку по ранее предложенному маршруту"
   ]
  },
  {
   "cell_type": "code",
   "execution_count": 10,
   "metadata": {},
   "outputs": [
    {
     "name": "stdout",
     "output_type": "stream",
     "text": [
      "[ИНФО][QUEUES] регистрируем очередь planner.mqtt\n",
      "[ИНФО][QUEUES] регистрируем очередь sitl.mqtt\n",
      "[ИНФО][QUEUES] регистрируем очередь planner\n",
      "[ИНФО][MISSION PLANNER] создана система планирования заданий\n",
      "[ИНФО][QUEUES] регистрируем очередь sitl\n",
      "[ИНФО][QUEUES] регистрируем очередь servos\n",
      "[ИНФО][QUEUES] регистрируем очередь cargo\n",
      "[ИНФО][CARGO] создан компонент грузового отсека, отсек заблокирован\n",
      "[ИНФО][QUEUES] регистрируем очередь safety\n",
      "[ИНФО][SAFETY] создан ограничитель\n"
     ]
    }
   ],
   "source": [
    "# создадим все остальные компоненты\n",
    "\n",
    "if afcs_present:\n",
    "    mission_sender = MissionSender(\n",
    "        queues_dir=queues_dir, client_id=car_id, log_level=LOG_ERROR)\n",
    "    telemetry_sender = TelemetrySender(\n",
    "        queues_dir=queues_dir, client_id=car_id, log_level=LOG_ERROR)\n",
    "\n",
    "mission_planner = MissionPlanner(\n",
    "    queues_dir, afcs_present=afcs_present, mission=mission)\n",
    "\n",
    "sitl = SITL(\n",
    "    queues_dir=queues_dir, position=home,\n",
    "    car_id=car_id, post_telemetry=afcs_present, log_level=LOG_ERROR)\n",
    "\n",
    "servos = Servos(queues_dir=queues_dir, log_level=LOG_ERROR)\n",
    "cargo_bay = CargoBay(queues_dir=queues_dir, log_level=LOG_INFO)\n",
    "\n",
    "safety_block = SafetyBlock(queues_dir=queues_dir, log_level=LOG_INFO)"
   ]
  },
  {
   "cell_type": "code",
   "execution_count": 11,
   "metadata": {},
   "outputs": [
    {
     "name": "stdout",
     "output_type": "stream",
     "text": [
      "[ИНФО][MISSION PLANNER] старт системы планирования заданий\n",
      "[ИНФО][CARGO] старт блока грузового отсека\n",
      "[ИНФО][COMMUNICATION] старт системы планирования заданий\n",
      "[ИНФО][CONTROL] старт системы управления\n",
      "[ИНФО][SAFETY] старт ограничителя\n",
      "[ИНФО][MISSION PLANNER] запрошена новая задача, отправляем получателям\n",
      "[ИНФО][MISSION PLANNER] новая задача отправлена в коммуникационный шлюз\n",
      "[ИНФО][COMMUNICATION] получен новый маршрут, отправляем в получателям\n",
      "[ИНФО][CONTROL] установлена новая задача, начинаем следовать по маршруту, текущее время 10:29:56.758749\n",
      "[ИНФО][CONTROL] новая скорость 30 (была 0)\n",
      "[ИНФО][CONTROL] новое направление 251 (было 0)\n",
      "[ИНФО][SAFETY] сегмент пройден\n",
      "[ИНФО][CONTROL] сегмент пройден\n",
      "[ИНФО][CONTROL] новая скорость 60 (была 30)\n",
      "[ИНФО][CONTROL] новое направление 142 (было 251)\n",
      "[ОШИБКА][SAFETY] принудительная установка направления! Запрошенное направление 142.1559254348947, расчётное 322.1559254348947\n",
      "[ОШИБКА][SAFETY] принудительная установка направления! Запрошенное направление 142.59824548219854, расчётное 322.59824548219854\n",
      "[ИНФО][CONTROL] новое направление 143 (было 142)\n",
      "[ОШИБКА][SAFETY] принудительная установка направления! Запрошенное направление 143.0427950771263, расчётное 323.0427950771263\n",
      "[ОШИБКА][SAFETY] принудительная установка направления! Запрошенное направление 143.39999624158554, расчётное 323.39999624158554\n",
      "[ОШИБКА][SAFETY] принудительная установка направления! Запрошенное направление 143.41992472104846, расчётное 323.41992472104846\n",
      "[ОШИБКА][SAFETY] принудительная установка направления! Запрошенное направление 143.43301869928428, расчётное 323.4330186992843\n"
     ]
    }
   ],
   "source": [
    "# соберём все компоненты для запуска\n",
    "\n",
    "# в зависимости от наличия СУПА используем разный набор компонентов - с передачей телеметрии или без\n",
    "\n",
    "system_components = SystemComponentsContainer(\n",
    "components=[\n",
    "        # вариант компонентов с передачей телеметрии в СУПА\n",
    "        mission_sender,\n",
    "        telemetry_sender,\n",
    "        sitl,\n",
    "        mission_planner,\n",
    "        navigation_system,\n",
    "        servos,\n",
    "        cargo_bay,\n",
    "        communication_gateway,\n",
    "        control_system,\n",
    "        safety_block\n",
    "    ] if afcs_present else [\n",
    "        # вариант компонентов для конфигурации без СУПА\n",
    "        sitl,\n",
    "        mission_planner,\n",
    "        navigation_system,\n",
    "        servos,\n",
    "        cargo_bay,\n",
    "        communication_gateway,\n",
    "        control_system,\n",
    "        safety_block\n",
    "    ])\n",
    "\n",
    "system_components.start()\n",
    "\n",
    "# настройте этот параметр так, чтобы проверить работу ограничителя\n",
    "sleep(30)\n",
    "\n",
    "# останавливаем все компоненты\n",
    "system_components.stop()\n",
    "\n",
    "# удалим все созданные компоненты\n",
    "system_components.clean()"
   ]
  },
  {
   "cell_type": "markdown",
   "metadata": {},
   "source": [
    "#### Обеспечение ЦБ3: контроль доставки груза\n",
    "\n",
    "С помощью логики ограничителя выше мы реализовали обеспечение ЦБ1 (соблюдение заданных ограничений), однако есть ещё ЦБ3 (отгрузка только в заданной точке), не говоря о ЦБ2 (следование только по аутентичному маршруту).\n",
    "\n",
    "Для обеспечения ЦБ3 необходимо сделать следующее\n",
    "1. изменить последовательность передачи команд, чтобы в блок управления грузовым отсеком (CargoBay) команды приходили только после проверки в Ограничителе\n",
    "2. доработайте реализацию Ограничителя, чтобы команда на выгрузку передавалась в CargoBay только в конечной точке маршрута\n",
    "3. продумайте логику работы блока безопасности, если система управления полностью перестанет работать (т.е. перестанет отправлять новые команды).\n",
    "\n",
    "Изменённая архитектура приведена на рис. 7.\n",
    "\n",
    "![Ограничитель для обеспечения ЦБ1 и ЦБ3](images/ciac-arch-m312.png)\n",
    "\n",
    "Рис. 7. Ограничитель для обеспечения ЦБ1 и ЦБ3"
   ]
  },
  {
   "cell_type": "code",
   "execution_count": 12,
   "metadata": {},
   "outputs": [],
   "source": [
    "# напишите свой код в этой ячейке, запустите машинку по маршруту, убедитесь, \n",
    "# что в конечной (и только в конечной!) точке CargoBay получает команду и успешно выполняет выгрузку"
   ]
  },
  {
   "cell_type": "markdown",
   "metadata": {},
   "source": [
    "#### *Опциональное задание повышенной сложности* Обеспечение ЦБ2\n",
    "\n",
    "**Перед началом работы над этой задачей рекомендуем сохранить все текущие изменения в git репозитории (git commit, git push).**\n",
    "\n",
    "Напомним цель безопасности №2 (ЦБ2): \"При любых обстоятельствах АНТС выполняет только аутентичный (подлинный) маршрут\"\n",
    "\n",
    "Обеспечение ЦБ2 потребует \n",
    "- внедрения механизма **контроля аутентичности маршрутного задания** (mission), а значит\n",
    "- помимо изменения **блока безопасности** (SafetyBlock), модификации \n",
    "  - системы **планирования задания** (MissionPlanner)\n",
    "  - **коммуникационного шлюза** (CommunicationGateway)\n",
    "  - и, возможно, **системы управления** (ControlSystem). \n",
    " \n",
    "Для решения этой задачи допустимо менять код соответствующих модулей в папке src.\n",
    "\n",
    "Возможным решением является внедрение механизма цифровой подписи, верификацией которой будет заниматься блок безопасности. В этой ситуации если коммуникационный шлюз (блок \"1. Связь\" на рис. 5 в модуле 1) оказался скомпрометированным и изменил маршрутное задание, оно не должно пройти проверку подлинности в блоке безопасности.\n",
    "\n",
    "**Рекомендуем эту задачу делать в последнюю очередь**, *после успешного выполнения модуля 4*, поскольку успешное выполнение модуля 4 принесёт больше баллов, чем внедрение цифровой подписи и обеспечение ЦБ2. \n",
    "К сведению, реализованные в этой версии киберпрепятствия не предполагают компрометацию маршрутного задания.\n",
    "\n",
    "Конечно, если будут решены все основные задачи и к тому же обеспечен контроль аутентичности маршрутного задания, такая работа с высокой вероятностью окажется лучшей."
   ]
  },
  {
   "cell_type": "code",
   "execution_count": 14,
   "metadata": {},
   "outputs": [],
   "source": [
    "# если вы собираетесь выполнить это задание, напишите в этой ячейке код выполнения изменённых блоков. \n",
    "# cам код допускается редактировать в папке src\n",
    "# в случае успешной реализации машинка должна успешно пройти по маршруту, а в случае искажения маршрутного задания в блоке коммуникационного шлюза должна остаться на месте, \n",
    "# при этом именно блок безопасности должен заблокировать движение"
   ]
  },
  {
   "attachments": {},
   "cell_type": "markdown",
   "metadata": {
    "datalore": {
     "hide_input_from_viewers": false,
     "hide_output_from_viewers": false,
     "node_id": "hRJUXA47UL8ukf6MNHvVyx",
     "report_properties": {
      "y": 55
     },
     "type": "MD"
    }
   },
   "source": [
    "### Задание 3.2. Монитор безопасности"
   ]
  },
  {
   "cell_type": "markdown",
   "metadata": {},
   "source": [
    "В текущей реализации каждый блок сам решает куда и какие данные ему отправлять. Это приемлемо, когда каждый блок рассматривается как благонадёжный. Однако нельзя исключать ситуацию успешной компрометации какого-либо из блоков (одного или нескольких), в результате которой злоумышленник может получить полный контроль над частью системы. \n",
    "\n",
    "В такой ситуации необходимо выстроить внутреннюю \"поверхность защиты\", частью этой системы уже является блок \"Ограничитель\", однако необходимо сделать так, чтобы соответствующие запросы проходили только через него, а не в обход.\n",
    "\n",
    "Для решения этой задачи необходимо добавить новый блок \"Монитор безопасности\". Его задача - обеспечить контроль направления информационных потоков, допустить передачу данных только между теми блоками и в тех направлениях, которые задуманы архитектором системы. Тогда, например, попытка передать команду из системы управления напрямую в сервоприводы в обход ограничителя будет заблокирована.\n",
    "\n",
    "Возможно, возникнет вопрос, а что помешает злоумышленнику отправить команду в обход этого монитора безопасности. В рамках этой учебной инфраструктуры особо ничего, однако при разработке реальной системы можно использовать специализированные микроядерные операционные системы, такие как, например, KasperskyOS, которые обеспечат обязательное вовлечение монитора безопасности в контроль взаимодействия между блоками.\n",
    "\n",
    "Архитектура системы для решения задачи 3.2 должна выглядеть как на рис.8:\n",
    "\n",
    "![Архитектура системы с монитором безопасности](images/ciac-arch-m32.png)\n",
    "\n",
    "Рис. 8. Архитектура бортовых систем с монитором безопасности"
   ]
  },
  {
   "cell_type": "markdown",
   "metadata": {},
   "source": [
    "Базовый класс модуля безопасности находится в файле src/security_monitor.py, его менять не нужно. \n",
    "\n",
    "В следующей ячейке находится реализация класса SecurityMonitor"
   ]
  },
  {
   "cell_type": "code",
   "execution_count": 15,
   "metadata": {},
   "outputs": [],
   "source": [
    "from src.security_monitory import BaseSecurityMonitor\n",
    "from src.security_policy_type import SecurityPolicy\n",
    "\n",
    "from src.config import COMMUNICATION_GATEWAY_QUEUE_NAME, LOG_DEBUG, LOG_ERROR, LOG_INFO\n",
    "    \n",
    "    \n",
    "class SecurityMonitor(BaseSecurityMonitor):\n",
    "    \"\"\" класс монитора безопасности \"\"\"\n",
    "\n",
    "    def __init__(self, queues_dir):\n",
    "        super().__init__(queues_dir)\n",
    "        self._init_set_security_policies()\n",
    "\n",
    "    def _init_set_security_policies(self):\n",
    "        \"\"\" инициализация политик безопасности \"\"\"\n",
    "        default_policies = [\n",
    "            SecurityPolicy(\n",
    "                source=COMMUNICATION_GATEWAY_QUEUE_NAME,\n",
    "                destination=CONTROL_SYSTEM_QUEUE_NAME,\n",
    "                operation='set_mission')\n",
    "        ]\n",
    "        self.set_security_policies(policies=default_policies)        \n",
    "\n",
    "    def set_security_policies(self, policies):\n",
    "        \"\"\" установка новых политик безопасности \"\"\"\n",
    "        self._security_policies = policies\n",
    "        self._log_message(\n",
    "            LOG_INFO, f\"изменение политик безопасности: {policies}\")\n",
    "\n",
    "    def _check_event(self, event: Event):\n",
    "        \"\"\" проверка входящих событий \"\"\"\n",
    "        self._log_message(\n",
    "            LOG_DEBUG, f\"проверка события {event}, по умолчанию выполнение запрещено\")\n",
    "\n",
    "        authorized = False\n",
    "        request = SecurityPolicy(\n",
    "            source=event.source,\n",
    "            destination=event.destination,\n",
    "            operation=event.operation)\n",
    "\n",
    "        if request in self._security_policies:\n",
    "            self._log_message(\n",
    "                LOG_DEBUG, \"событие разрешено политиками, выполняем\")\n",
    "            authorized = True\n",
    "\n",
    "        if authorized is False:\n",
    "            self._log_message(LOG_ERROR, f\"событие не разрешено политиками безопасности! {event}\")\n",
    "        return authorized"
   ]
  },
  {
   "cell_type": "markdown",
   "metadata": {},
   "source": [
    "Обратите внимание на этот код:\n",
    "```python\n",
    "    def _init_set_security_policies(self):\n",
    "        \"\"\" инициализация политик безопасности \"\"\"\n",
    "        default_policies = [\n",
    "            SecurityPolicy(\n",
    "                source=COMMUNICATION_GATEWAY_QUEUE_NAME,\n",
    "                destination=CONTROL_SYSTEM_QUEUE_NAME,\n",
    "                operation='set_mission')\n",
    "        ]\n",
    "        self.set_security_policies(policies=default_policies)  \n",
    "```\n",
    "\n",
    "В нём инициализируется политика безопасности, разрешающая запрос set_mission от коммуникационного шлюза в систему управления.\n",
    "\n",
    "Код политики безопасности в строка 6-9:\n",
    "```python\n",
    "SecurityPolicy(\n",
    "                source=COMMUNICATION_GATEWAY_QUEUE_NAME,\n",
    "                destination=CONTROL_SYSTEM_QUEUE_NAME,\n",
    "                operation='set_mission')\n",
    "```\n",
    "\n",
    "Шаблон политики безопасности описан в файле src/security_policy_type.py:\n",
    "```python\n",
    "@dataclass\n",
    "class SecurityPolicy:\n",
    "    \"\"\" политика безопасности \"\"\"\n",
    "    source: str         # отправитель запроса\n",
    "    destination: str    # получатель\n",
    "    operation: str      # запрашиваемая операция\n",
    "\n",
    "```\n",
    "\n",
    "По аналогии в методе _init_set_security_policies допишите другие политики безопасности, чтобы разрешить взаимодействия согласно диаграмме на рис.7. выше. "
   ]
  },
  {
   "cell_type": "markdown",
   "metadata": {},
   "source": [
    "Теперь необходимо изменить взаимодействие между блоками так, чтобы оно всегда проходило через монитор безопасности. Для этого потребуется изменить соответствующие реализации внутренних блоков."
   ]
  },
  {
   "cell_type": "markdown",
   "metadata": {},
   "source": [
    "Ниже пример для блока навигации. Обратите внимание на выделенные строки и комментарии.\n",
    "\n",
    "```python\n",
    "from src.navigation_system import BaseNavigationSystem\n",
    "from src.config import CONTROL_SYSTEM_QUEUE_NAME, SECURITY_MONITOR_QUEUE_NAME\n",
    "\n",
    "\n",
    "class NavigationSystem(BaseNavigationSystem):\n",
    "    \"\"\" класс навигационного блока \"\"\"\n",
    "    def _send_position_to_consumers(self):\n",
    "        # событие для системы управления,\n",
    "        # поэтому в destination указываем CONTROL_SYSTEM_QUEUE_NAME        \n",
    "        event = Event(source=self.event_source_name,\n",
    ">>>                      destination=CONTROL_SYSTEM_QUEUE_NAME,\n",
    "                      operation=\"position_update\", parameters=self._position\n",
    "                      )\n",
    "        # но событие отправляем сначала на проверку в монитор безопасности,\n",
    "        # поэтому используем очередь с именем SECURITY_MONITOR_QUEUE_NAME\n",
    ">>>        security_monitor_q: Queue = self._queues_dir.get_queue(SECURITY_MONITOR_QUEUE_NAME)\n",
    "        security_monitor_q.put(event)\n",
    "        # а в систему управления наше событие монитор безопасности отправит сам, если найдёт разрешающую эту операцию политику безопасности\n",
    "\n",
    "navigation_system = NavigationSystem(queues_dir=queues_dir)\n",
    "```"
   ]
  },
  {
   "cell_type": "markdown",
   "metadata": {},
   "source": [
    "from src.navigation_system import BaseNavigationSystem\n",
    "from src.config import CONTROL_SYSTEM_QUEUE_NAME, SECURITY_MONITOR_QUEUE_NAME\n",
    "\n",
    "\n",
    "class NavigationSystem(BaseNavigationSystem):\n",
    "    \"\"\" класс навигационного блока \"\"\"\n",
    "    def _send_position_to_consumers(self):        \n",
    "        event = Event(source=self.event_source_name,\n",
    "                      destination=CONTROL_SYSTEM_QUEUE_NAME,\n",
    "                      operation=\"position_update\", parameters=self._position\n",
    "                      )\n",
    "        security_monitor_q: Queue = self._queues_dir.get_queue(SECURITY_MONITOR_QUEUE_NAME)\n",
    "        security_monitor_q.put(event)\n",
    "\n",
    "navigation_system = NavigationSystem(queues_dir=queues_dir)"
   ]
  },
  {
   "cell_type": "markdown",
   "metadata": {},
   "source": [
    "В файле tests/module/test_security_monitor.py можно увидеть тест логики работы монитора безопасности. Запустить его можно следующей командой:"
   ]
  },
  {
   "cell_type": "code",
   "execution_count": 16,
   "metadata": {},
   "outputs": [
    {
     "name": "stdout",
     "output_type": "stream",
     "text": [
      "\u001b[1m============================= test session starts ==============================\u001b[0m\n",
      "platform linux -- Python 3.8.10, pytest-8.3.4, pluggy-1.5.0 -- /bin/python\n",
      "cachedir: .pytest_cache\n",
      "rootdir: /home/user/projects/delivery-car-jupyter/ciac\n",
      "configfile: pytest.ini\n",
      "testpaths: tests\n",
      "plugins: anyio-4.3.0\n",
      "collected 10 items / 9 deselected / 1 selected                                 \u001b[0m\n",
      "\n",
      "tests/module/test_security_monitor.py::test_security_policies [ИНФО][QUEUES] создан каталог очередей\n",
      "[ИНФО][QUEUES] регистрируем очередь security\n",
      "[ИНФО][SECURITY] создан монитор безопасности\n",
      "[ИНФО][SECURITY] изменение политик безопасности: [SecurityPolicy(source='communication', destination='control', operation='set_mission')]\n",
      "[ОТЛАДКА][SECURITY] проверка события Event(source='communication', destination='control', operation='set_mission', parameters=None, extra_parameters=None, signature=None), по умолчанию выполнение запрещено\n",
      "[ОТЛАДКА][SECURITY] событие разрешено политиками, выполняем\n",
      "[ОТЛАДКА][SECURITY] проверка события Event(source='control', destination='safety', operation='set_speed', parameters=None, extra_parameters=None, signature=None), по умолчанию выполнение запрещено\n",
      "[ИНФО][SECURITY] изменение политик безопасности: [SecurityPolicy(source='communication', destination='control', operation='set_mission'), SecurityPolicy(source='control', destination='safety', operation='set_speed')]\n",
      "[ОТЛАДКА][SECURITY] проверка события Event(source='control', destination='safety', operation='set_speed', parameters=None, extra_parameters=None, signature=None), по умолчанию выполнение запрещено\n",
      "[ОТЛАДКА][SECURITY] событие разрешено политиками, выполняем\n",
      "[ОТЛАДКА][SECURITY] проверка события Event(source='communication', destination='cargo', operation='release_cargo', parameters=None, extra_parameters=None, signature=None), по умолчанию выполнение запрещено\n",
      "\u001b[32mPASSED\u001b[0m\n",
      "\n",
      "\u001b[32m======================= \u001b[32m\u001b[1m1 passed\u001b[0m, \u001b[33m9 deselected\u001b[0m\u001b[32m in 0.02s\u001b[0m\u001b[32m ========================\u001b[0m\n"
     ]
    }
   ],
   "source": [
    "!pytest -svk security_monitor"
   ]
  },
  {
   "cell_type": "markdown",
   "metadata": {},
   "source": [
    "В одном кодовом блоке ниже (или нескольких - как будет удобнее)  сделайте следующее\n",
    "\n",
    "1. Измените реализацию монитора безопасности в части правил проверки передаваемых сообщений в мониторе безопасности\n",
    "2. Измените параметры отправки сообщений между элементами бортовых систем (блоками 1-7), чтобы они всегда отправлялись в очередь монитора безопасности (отправитель и получатель при этом не меняются)\n",
    "3. После всех изменений убедитесь в том, что машинка по-прежнему успешно выполняет маршрутное задание и доставляет груз\n",
    "4. Дополнительные баллы принесут автоматические тесты правил безопасности в файле tests/module/test_security_monitor.py - можно проверить, что все новые политики работают как ожидаются, а недопустимые взаимодействия (т.е. таких стрелок нет на рис. 8) блокируются"
   ]
  },
  {
   "cell_type": "code",
   "execution_count": 17,
   "metadata": {},
   "outputs": [],
   "source": [
    "# добавьте изменения сюда"
   ]
  },
  {
   "cell_type": "markdown",
   "metadata": {},
   "source": [
    "На этом модуль 3 завершён! \n",
    "\n",
    "Если у вас всё получилось, то вы создали защищённую автономную машинку - ещё уже не так-то просто использовать для нанесения критического ущерба людям и имуществу, потому что самые критические режимы проверяются вашим Ограничителем, а если вы ещё и внедрили Монитор Безопасности, то теперь злоумышленнику гораздо сложнее атаковать внутренние блоки, даже если он смог проникнуть в какую-то бортовую систему или внедрить вредоносный код.\n",
    "\n",
    "Осталось проверить эффективность получившейся защиты на полной трассе - в этом и заключается модуль 4 задания, для перехода к которому нужно открыть блокнот с именем cyberimmunity--autonomous-car-m4. Успеха!"
   ]
  }
 ],
 "metadata": {
  "datalore": {
   "base_environment": "default",
   "computation_mode": "JUPYTER",
   "package_manager": "pip",
   "packages": [],
   "version": 1
  },
  "kernelspec": {
   "display_name": "Python 3",
   "language": "python",
   "name": "python3"
  },
  "language_info": {
   "codemirror_mode": {
    "name": "ipython",
    "version": 3
   },
   "file_extension": ".py",
   "mimetype": "text/x-python",
   "name": "python",
   "nbconvert_exporter": "python",
   "pygments_lexer": "ipython3",
   "version": "3.8.10"
  }
 },
 "nbformat": 4,
 "nbformat_minor": 4
}
