{
 "cells": [
  {
   "attachments": {},
   "cell_type": "markdown",
   "metadata": {
    "datalore": {
     "hide_input_from_viewers": false,
     "hide_output_from_viewers": false,
     "node_id": "0RJSlfIlixBX3VaSDV2gM0",
     "report_properties": {
      "y": 0
     },
     "type": "MD"
    }
   },
   "source": [
    "# Кибериммунная автономность $\\\\$ Создание конструктивно защищённого автономного наземного транспортного средства $\\\\$  Дополнительные инструменты\n",
    "\n",
    "## О документе\n",
    "\n",
    "Версия 1.03\n",
    "\n",
    "Дополнительная информация и инструменты"
   ]
  },
  {
   "cell_type": "markdown",
   "metadata": {},
   "source": [
    "## Система управления парком автомобилей\n",
    "\n",
    "Для наблюдения за движением виртуальной машинки можно использовать специальный инструмент под названием \"Система управления парком автомобилей\", сокращённо СУПА.\n",
    "В английском варианте - Autonomous Fleet Control System (AFCS)\n",
    "\n",
    "Код СУПА находится в папке afcs, его менять не нужно. Для запуска необходимо собрать docker образ и запустить docker контейнер с этим инструментом."
   ]
  },
  {
   "cell_type": "markdown",
   "metadata": {},
   "source": [
    "### Требования к окружению \n",
    "\n",
    "Для успешной сборки docker образа необходимо наличие установленного пакета docker-compose в системе. \n",
    "Сразу после установки docker-compose, возможно, следует перезагрузить (виртуальную) операционную систему.\n",
    "\n",
    "В случае успешной установки выполнение в терминале команды **docker ps** не должно выдавать ошибки.\n",
    "\n",
    "### Сборка и запуск docker образа СУПА\n",
    "\n",
    "для сборки образа и запуска нужно в директории afcs выполнить команду\n",
    "docker-compose -f 'afcs/docker-compose.yml' up -d --build 'afcs'\n",
    "\n",
    "### Работа с СУПА\n",
    "\n",
    "1. откройте страницу http://localhost:8080 в браузере (рекомендуем использовать Chrome)\n",
    "2. перейдите по ссылке для СУПА (первый пункт в списке)\n",
    "3. введите логин и пароль для входа (по умолчанию admin/passw)\n",
    "4. выберите опцию \"режим мониторинга\" - при этом будут отображаться все виртуальные машинки, которые передают информацию в СУПА\n",
    "5. в модулях 1-4 установите значение переменной afcs_present в True:\n",
    "   ```python\n",
    "   afcs_present = True\n",
    "   ```"
   ]
  }
 ],
 "metadata": {
  "datalore": {
   "base_environment": "default",
   "computation_mode": "JUPYTER",
   "package_manager": "pip",
   "packages": [],
   "version": 1
  },
  "kernelspec": {
   "display_name": "Python 3",
   "language": "python",
   "name": "python3"
  },
  "language_info": {
   "codemirror_mode": {
    "name": "ipython",
    "version": 3
   },
   "file_extension": ".py",
   "mimetype": "text/x-python",
   "name": "python",
   "nbconvert_exporter": "python",
   "pygments_lexer": "ipython3",
   "version": "3.8.10"
  }
 },
 "nbformat": 4,
 "nbformat_minor": 4
}
